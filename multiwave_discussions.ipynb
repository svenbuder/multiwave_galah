{
 "cells": [
  {
   "cell_type": "markdown",
   "id": "69c10bf2",
   "metadata": {},
   "source": [
    "# Multiwavelength astronomy: Follow-up of discussions\n",
    "\n",
    "Follow-up from discussions during the [2025 Australia/eROSITA-DE multi-wavelength school](https://astronomyaustralia.org.au/event/2025-australia-erosita-de-multi-wavelength-school/).\n",
    "\n",
    "Author: Sven Buder (ANU, sven.buder@anu.edu.au)"
   ]
  },
  {
   "cell_type": "code",
   "execution_count": 1,
   "id": "2142a81d",
   "metadata": {},
   "outputs": [],
   "source": [
    "# Read in python packages\n",
    "try:\n",
    "    %matplotlib inline\n",
    "    %config InlineBackend.figure_format='retina'\n",
    "except:\n",
    "    pass\n",
    "\n",
    "import matplotlib.pyplot as plt"
   ]
  },
  {
   "cell_type": "markdown",
   "id": "56cec349",
   "metadata": {},
   "source": [
    "## 1 A way to compare with the \"history\" of measurements?\n",
    "\n",
    "Mara Salvato said that several survey catalogues include wrong measurements -- although we know better.\n",
    "A solution for this problem would be to check past measurements automatically and flag those that differ significantly for the necessary manual follow-up.  \n",
    "\n",
    "Where can we get these past measurements from? The [SIMBAD Service](https://simbad.cds.unistra.fr/) at the CDS is actually already providing such a service and one would only need to figure out how to efficiently use it.  "
   ]
  },
  {
   "cell_type": "code",
   "execution_count": 2,
   "id": "60a62ece",
   "metadata": {},
   "outputs": [],
   "source": [
    "# Use the python interface for SIMBAD\n",
    "from astroquery.simbad import Simbad"
   ]
  },
  {
   "cell_type": "markdown",
   "id": "4f64882b",
   "metadata": {},
   "source": [
    "## 1.1 What information can we query from Simbad?\n",
    "\n",
    "Have a look here: https://cds.unistra.fr/help/documentation/simbad-more/adql-simbad/\n",
    "\n",
    "![Simbad Tables](https://simbad.u-strasbg.fr/simbad/images/tables.png)"
   ]
  },
  {
   "cell_type": "markdown",
   "id": "5df8bb7c",
   "metadata": {},
   "source": [
    "## 1.2 How to set up a query for a specific object"
   ]
  },
  {
   "cell_type": "code",
   "execution_count": 3,
   "id": "94eb635d",
   "metadata": {},
   "outputs": [],
   "source": [
    "from astroquery.simbad import Simbad\n",
    "\n",
    "object_list = ['JADES-GN NS 3991', '[SWM2014] GOODS-N 5984']  # Add more names here\n",
    "\n",
    "query_template = \"\"\"\n",
    "SELECT DISTINCT *\n",
    "FROM ident\n",
    "JOIN mesVelocities USING(oidref)\n",
    "WHERE id = '{}'\n",
    "\"\"\"\n",
    "\n",
    "object_search_results = {}\n",
    "\n",
    "for obj in object_list:\n",
    "    query = query_template.format(obj)\n",
    "    try:\n",
    "        redshift_table = Simbad.query_tap(query)\n",
    "        object_search_results[obj] = redshift_table\n",
    "    except Exception as e:\n",
    "        print(f\"Query failed for {obj}: {e}\")\n",
    "        object_search_results[obj] = None"
   ]
  },
  {
   "cell_type": "code",
   "execution_count": 4,
   "id": "08c04e9a",
   "metadata": {},
   "outputs": [
    {
     "data": {
      "text/html": [
       "<div><i>Table length=6</i>\n",
       "<table id=\"table140221156652464\" class=\"table-striped table-bordered table-condensed\">\n",
       "<thead><tr><th>oidref</th><th>id</th><th>bibcode</th><th>d</th><th>meanError</th><th>meanError_prec</th><th>nature</th><th>nbmes</th><th>obsdate</th><th>obsdate_prec</th><th>origin</th><th>qual</th><th>quality</th><th>remark</th><th>remarks</th><th>resolution</th><th>velType</th><th>velValue</th><th>velValue_prec</th><th>wdomain</th><th>mespos</th></tr></thead>\n",
       "<thead><tr><th>int64</th><th>object</th><th>object</th><th>str1</th><th>float32</th><th>int16</th><th>object</th><th>int16</th><th>float64</th><th>int16</th><th>object</th><th>str1</th><th>str1</th><th>str1</th><th>object</th><th>int32</th><th>object</th><th>float64</th><th>int16</th><th>object</th><th>int16</th></tr></thead>\n",
       "<tr><td>6231699</td><td>JADES-GN NS     3991</td><td>2014ApJS..214...24S</td><td></td><td>--</td><td>--</td><td>p</td><td>--</td><td>--</td><td>--</td><td></td><td></td><td></td><td></td><td></td><td>--</td><td>z</td><td>2.4829</td><td>4</td><td></td><td>5</td></tr>\n",
       "<tr><td>6231699</td><td>JADES-GN NS     3991</td><td>2015ApJ...803...34B</td><td></td><td>--</td><td>--</td><td>p</td><td>--</td><td>--</td><td>--</td><td></td><td></td><td></td><td></td><td></td><td>--</td><td>z</td><td>10.2</td><td>2</td><td>NIR</td><td>6</td></tr>\n",
       "<tr><td>6231699</td><td>JADES-GN NS     3991</td><td>2018ApJS..237...12O</td><td></td><td>--</td><td>32767</td><td>p</td><td>--</td><td>--</td><td>32767</td><td></td><td></td><td></td><td></td><td></td><td>--</td><td>z</td><td>2.489</td><td>3</td><td></td><td>2</td></tr>\n",
       "<tr><td>6231699</td><td>JADES-GN NS     3991</td><td>2022ApJ...928...52F</td><td></td><td>--</td><td>--</td><td>p</td><td>--</td><td>--</td><td>32767</td><td></td><td></td><td></td><td></td><td></td><td>--</td><td>z</td><td>10.41</td><td>2</td><td>Opt</td><td>3</td></tr>\n",
       "<tr><td>6231699</td><td>JADES-GN NS     3991</td><td>2022ApJ...930..104L</td><td>,</td><td>--</td><td>--</td><td>p</td><td>--</td><td>--</td><td>32767</td><td></td><td></td><td></td><td></td><td></td><td>--</td><td>z</td><td>10.41</td><td>2</td><td></td><td>4</td></tr>\n",
       "<tr><td>6231699</td><td>JADES-GN NS     3991</td><td>2025ApJ...980..225T</td><td></td><td>--</td><td>32767</td><td>s</td><td>--</td><td>--</td><td>32767</td><td></td><td>C</td><td></td><td></td><td></td><td>--</td><td>z</td><td>10.621</td><td>3</td><td>NIR</td><td>1</td></tr>\n",
       "</table></div>"
      ],
      "text/plain": [
       "<Table length=6>\n",
       " oidref          id                bibcode       ... wdomain mespos\n",
       " int64         object               object       ...  object int16 \n",
       "------- -------------------- ------------------- ... ------- ------\n",
       "6231699 JADES-GN NS     3991 2014ApJS..214...24S ...              5\n",
       "6231699 JADES-GN NS     3991 2015ApJ...803...34B ...    NIR       6\n",
       "6231699 JADES-GN NS     3991 2018ApJS..237...12O ...              2\n",
       "6231699 JADES-GN NS     3991 2022ApJ...928...52F ...    Opt       3\n",
       "6231699 JADES-GN NS     3991 2022ApJ...930..104L ...              4\n",
       "6231699 JADES-GN NS     3991 2025ApJ...980..225T ...    NIR       1"
      ]
     },
     "execution_count": 4,
     "metadata": {},
     "output_type": "execute_result"
    }
   ],
   "source": [
    "object_search_results[object_list[0]]"
   ]
  },
  {
   "cell_type": "code",
   "execution_count": 5,
   "id": "9f9bf41e",
   "metadata": {},
   "outputs": [
    {
     "data": {
      "image/png": "[encoded data removed]",
      "text/plain": [
       "<Figure size 576x288 with 1 Axes>"
      ]
     },
     "metadata": {
      "image/png": {
       "height": 279,
       "width": 568
      },
      "needs_background": "light"
     },
     "output_type": "display_data"
    }
   ],
   "source": [
    "f, ax = plt.subplots(figsize=(8,4))\n",
    "\n",
    "x_labels = object_search_results[object_list[0]]['bibcode']\n",
    "x_data = list(range(len(x_labels)))\n",
    "y_data = object_search_results[object_list[0]]['velValue']\n",
    "\n",
    "plt.scatter(x_data, y_data)\n",
    "\n",
    "get_z_max = max(y_data)\n",
    "ax.set_ylim(0,1.1*get_z_max)\n",
    "\n",
    "for index, label in enumerate(x_labels):\n",
    "    ax.text(index,0.5*get_z_max,label,rotation=90,va='center',ha='center',fontsize=8)\n",
    "\n",
    "ax.set_xlabel(\"Publications\",fontsize=15)\n",
    "ax.set_ylabel(\"Redshift (velValue)\",fontsize=15)\n",
    "plt.tight_layout()"
   ]
  },
  {
   "cell_type": "code",
   "execution_count": 6,
   "id": "2ca6b37f",
   "metadata": {},
   "outputs": [
    {
     "data": {
      "text/html": [
       "<div><i>Table length=4</i>\n",
       "<table id=\"table140219273888048\" class=\"table-striped table-bordered table-condensed\">\n",
       "<thead><tr><th>oidref</th><th>id</th><th>bibcode</th><th>d</th><th>meanError</th><th>meanError_prec</th><th>nature</th><th>nbmes</th><th>obsdate</th><th>obsdate_prec</th><th>origin</th><th>qual</th><th>quality</th><th>remark</th><th>remarks</th><th>resolution</th><th>velType</th><th>velValue</th><th>velValue_prec</th><th>wdomain</th><th>mespos</th></tr></thead>\n",
       "<thead><tr><th>int64</th><th>object</th><th>object</th><th>str1</th><th>float32</th><th>int16</th><th>object</th><th>int16</th><th>float64</th><th>int16</th><th>object</th><th>str1</th><th>str1</th><th>str1</th><th>object</th><th>int32</th><th>object</th><th>float64</th><th>int16</th><th>object</th><th>int16</th></tr></thead>\n",
       "<tr><td>11731849</td><td>[SWM2014] GOODS-N  5984</td><td>2014ApJS..214...24S</td><td></td><td>--</td><td>--</td><td>p</td><td>--</td><td>--</td><td>--</td><td></td><td></td><td></td><td></td><td></td><td>--</td><td>z</td><td>0.6331</td><td>4</td><td></td><td>3</td></tr>\n",
       "<tr><td>11731849</td><td>[SWM2014] GOODS-N  5984</td><td>2015ApJ...803...34B</td><td></td><td>--</td><td>--</td><td>p</td><td>--</td><td>--</td><td>--</td><td></td><td></td><td></td><td></td><td></td><td>--</td><td>z</td><td>4.48</td><td>2</td><td>NIR</td><td>4</td></tr>\n",
       "<tr><td>11731849</td><td>[SWM2014] GOODS-N  5984</td><td>2018ApJS..237...12O</td><td></td><td>--</td><td>32767</td><td>p</td><td>--</td><td>--</td><td>32767</td><td></td><td></td><td></td><td></td><td></td><td>--</td><td>z</td><td>0.622</td><td>3</td><td></td><td>1</td></tr>\n",
       "<tr><td>11731849</td><td>[SWM2014] GOODS-N  5984</td><td>2018MNRAS.478.3740A</td><td></td><td>0.07</td><td>2</td><td>p</td><td>--</td><td>--</td><td>32767</td><td></td><td></td><td>E</td><td></td><td></td><td>--</td><td>z</td><td>4.65</td><td>2</td><td></td><td>2</td></tr>\n",
       "</table></div>"
      ],
      "text/plain": [
       "<Table length=4>\n",
       " oidref             id                 bibcode       ... wdomain mespos\n",
       " int64            object                object       ...  object int16 \n",
       "-------- ----------------------- ------------------- ... ------- ------\n",
       "11731849 [SWM2014] GOODS-N  5984 2014ApJS..214...24S ...              3\n",
       "11731849 [SWM2014] GOODS-N  5984 2015ApJ...803...34B ...    NIR       4\n",
       "11731849 [SWM2014] GOODS-N  5984 2018ApJS..237...12O ...              1\n",
       "11731849 [SWM2014] GOODS-N  5984 2018MNRAS.478.3740A ...              2"
      ]
     },
     "execution_count": 6,
     "metadata": {},
     "output_type": "execute_result"
    }
   ],
   "source": [
    "object_search_results[object_list[1]]"
   ]
  },
  {
   "cell_type": "markdown",
   "id": "f33a5dfb",
   "metadata": {},
   "source": [
    "## 1.3 How to set up a query for a specific sky position"
   ]
  },
  {
   "cell_type": "code",
   "execution_count": 7,
   "id": "33963683",
   "metadata": {},
   "outputs": [],
   "source": [
    "from astroquery.simbad import Simbad\n",
    "\n",
    "targets = [\n",
    "    {'name': 'JADES-GN NS 3991', 'ra': (12+36/60.+25.46/3600.)*15., 'dec': (62+14/60.+31.4/3600.)},\n",
    "    {'name': '[SWM2014] GOODS-N 5984', 'ra': (12+37/60.+9.08/3600.)*15., 'dec': (62+10/60.+11.5/3600.)},\n",
    "]\n",
    "\n",
    "radius_arcsec = 2.0\n",
    "coordinate_search_results = {}\n",
    "\n",
    "for target in targets:\n",
    "    ra = target['ra']\n",
    "    dec = target['dec']\n",
    "    query = f\"\"\"\n",
    "    SELECT DISTINCT basic.main_id, basic.ra, basic.dec, mesVelocities.*\n",
    "    FROM basic\n",
    "    JOIN mesVelocities ON basic.oid = mesVelocities.oidref\n",
    "    WHERE 1=CONTAINS(\n",
    "      POINT('ICRS', basic.ra, basic.dec),\n",
    "      CIRCLE('ICRS', {ra}, {dec}, {radius_arcsec / 3600.0})\n",
    "    )\n",
    "    \"\"\"\n",
    "    try:\n",
    "        query_result = Simbad.query_tap(query)\n",
    "        coordinate_search_results[target['name']] = query_result\n",
    "    except Exception as e:\n",
    "        print(f\"Query failed for {target['name']}: {e}\")\n",
    "        coordinate_search_results[target['name']] = None"
   ]
  },
  {
   "cell_type": "code",
   "execution_count": 8,
   "id": "e8427a9a",
   "metadata": {},
   "outputs": [
    {
     "data": {
      "text/html": [
       "<div><i>Table length=12</i>\n",
       "<table id=\"table140220891418048\" class=\"table-striped table-bordered table-condensed\">\n",
       "<thead><tr><th>main_id</th><th>ra</th><th>dec</th><th>bibcode</th><th>d</th><th>meanError</th><th>meanError_prec</th><th>nature</th><th>nbmes</th><th>obsdate</th><th>obsdate_prec</th><th>origin</th><th>qual</th><th>quality</th><th>remark</th><th>remarks</th><th>resolution</th><th>velType</th><th>velValue</th><th>velValue_prec</th><th>wdomain</th><th>oidref</th><th>mespos</th></tr></thead>\n",
       "<thead><tr><th></th><th>deg</th><th>deg</th><th></th><th></th><th></th><th></th><th></th><th></th><th></th><th></th><th></th><th></th><th></th><th></th><th></th><th></th><th></th><th></th><th></th><th></th><th></th><th></th></tr></thead>\n",
       "<thead><tr><th>object</th><th>float64</th><th>float64</th><th>object</th><th>str1</th><th>float32</th><th>int16</th><th>object</th><th>int16</th><th>float64</th><th>int16</th><th>object</th><th>str1</th><th>str1</th><th>str1</th><th>object</th><th>int32</th><th>object</th><th>float64</th><th>int16</th><th>object</th><th>int64</th><th>int16</th></tr></thead>\n",
       "<tr><td>JADES-GN NS     3991</td><td>189.10608333333332</td><td>62.24205555555555</td><td>2014ApJS..214...24S</td><td></td><td>--</td><td>--</td><td>p</td><td>--</td><td>--</td><td>--</td><td></td><td></td><td></td><td></td><td></td><td>--</td><td>z</td><td>2.4829</td><td>4</td><td></td><td>6231699</td><td>5</td></tr>\n",
       "<tr><td>JADES-GN NS     3991</td><td>189.10608333333332</td><td>62.24205555555555</td><td>2015ApJ...803...34B</td><td></td><td>--</td><td>--</td><td>p</td><td>--</td><td>--</td><td>--</td><td></td><td></td><td></td><td></td><td></td><td>--</td><td>z</td><td>10.2</td><td>2</td><td>NIR</td><td>6231699</td><td>6</td></tr>\n",
       "<tr><td>JADES-GN NS     3991</td><td>189.10608333333332</td><td>62.24205555555555</td><td>2018ApJS..237...12O</td><td></td><td>--</td><td>32767</td><td>p</td><td>--</td><td>--</td><td>32767</td><td></td><td></td><td></td><td></td><td></td><td>--</td><td>z</td><td>2.489</td><td>3</td><td></td><td>6231699</td><td>2</td></tr>\n",
       "<tr><td>JADES-GN NS     3991</td><td>189.10608333333332</td><td>62.24205555555555</td><td>2022ApJ...928...52F</td><td></td><td>--</td><td>--</td><td>p</td><td>--</td><td>--</td><td>32767</td><td></td><td></td><td></td><td></td><td></td><td>--</td><td>z</td><td>10.41</td><td>2</td><td>Opt</td><td>6231699</td><td>3</td></tr>\n",
       "<tr><td>JADES-GN NS     3991</td><td>189.10608333333332</td><td>62.24205555555555</td><td>2022ApJ...930..104L</td><td>,</td><td>--</td><td>--</td><td>p</td><td>--</td><td>--</td><td>32767</td><td></td><td></td><td></td><td></td><td></td><td>--</td><td>z</td><td>10.41</td><td>2</td><td></td><td>6231699</td><td>4</td></tr>\n",
       "<tr><td>JADES-GN NS     3991</td><td>189.10608333333332</td><td>62.24205555555555</td><td>2025ApJ...980..225T</td><td></td><td>--</td><td>32767</td><td>s</td><td>--</td><td>--</td><td>32767</td><td></td><td>C</td><td></td><td></td><td></td><td>--</td><td>z</td><td>10.621</td><td>3</td><td>NIR</td><td>6231699</td><td>1</td></tr>\n",
       "<tr><td>MODS deep 1115</td><td>189.1065869</td><td>62.2422405</td><td>2011PASJ...63S.379K</td><td></td><td>--</td><td>--</td><td>p</td><td>--</td><td>--</td><td>--</td><td></td><td></td><td></td><td></td><td></td><td>--</td><td>z</td><td>0.54</td><td>3</td><td></td><td>8539994</td><td>5</td></tr>\n",
       "<tr><td>MODS deep 1115</td><td>189.1065869</td><td>62.2422405</td><td>2011PASJ...63S.379K</td><td></td><td>--</td><td>--</td><td>p</td><td>--</td><td>--</td><td>--</td><td></td><td></td><td></td><td></td><td></td><td>--</td><td>z</td><td>2.268</td><td>3</td><td></td><td>8539994</td><td>3</td></tr>\n",
       "<tr><td>MODS deep 1115</td><td>189.1065869</td><td>62.2422405</td><td>2011PASJ...63S.379K</td><td></td><td>--</td><td>--</td><td>p</td><td>--</td><td>--</td><td>--</td><td></td><td></td><td></td><td></td><td></td><td>--</td><td>z</td><td>2.36</td><td>3</td><td></td><td>8539994</td><td>4</td></tr>\n",
       "<tr><td>MODS deep 1115</td><td>189.1065869</td><td>62.2422405</td><td>2011PASJ...63S.379K</td><td></td><td>--</td><td>--</td><td>p</td><td>--</td><td>--</td><td>--</td><td></td><td></td><td></td><td></td><td></td><td>--</td><td>z</td><td>2.37</td><td>3</td><td></td><td>8539994</td><td>6</td></tr>\n",
       "<tr><td>MODS deep 1115</td><td>189.1065869</td><td>62.2422405</td><td>2014ApJS..214...24S</td><td></td><td>--</td><td>--</td><td>p</td><td>--</td><td>--</td><td>--</td><td></td><td></td><td></td><td></td><td></td><td>--</td><td>z</td><td>1.5472</td><td>4</td><td></td><td>8539994</td><td>2</td></tr>\n",
       "<tr><td>MODS deep 1115</td><td>189.1065869</td><td>62.2422405</td><td>2018ApJS..237...12O</td><td></td><td>--</td><td>32767</td><td>p</td><td>--</td><td>--</td><td>32767</td><td></td><td></td><td></td><td></td><td></td><td>--</td><td>z</td><td>2.179</td><td>3</td><td></td><td>8539994</td><td>1</td></tr>\n",
       "</table></div>"
      ],
      "text/plain": [
       "<Table length=12>\n",
       "      main_id                ra                dec        ...  oidref mespos\n",
       "                            deg                deg        ...               \n",
       "       object             float64            float64      ...  int64  int16 \n",
       "-------------------- ------------------ ----------------- ... ------- ------\n",
       "JADES-GN NS     3991 189.10608333333332 62.24205555555555 ... 6231699      5\n",
       "JADES-GN NS     3991 189.10608333333332 62.24205555555555 ... 6231699      6\n",
       "JADES-GN NS     3991 189.10608333333332 62.24205555555555 ... 6231699      2\n",
       "JADES-GN NS     3991 189.10608333333332 62.24205555555555 ... 6231699      3\n",
       "JADES-GN NS     3991 189.10608333333332 62.24205555555555 ... 6231699      4\n",
       "JADES-GN NS     3991 189.10608333333332 62.24205555555555 ... 6231699      1\n",
       "      MODS deep 1115        189.1065869        62.2422405 ... 8539994      5\n",
       "      MODS deep 1115        189.1065869        62.2422405 ... 8539994      3\n",
       "      MODS deep 1115        189.1065869        62.2422405 ... 8539994      4\n",
       "      MODS deep 1115        189.1065869        62.2422405 ... 8539994      6\n",
       "      MODS deep 1115        189.1065869        62.2422405 ... 8539994      2\n",
       "      MODS deep 1115        189.1065869        62.2422405 ... 8539994      1"
      ]
     },
     "execution_count": 8,
     "metadata": {},
     "output_type": "execute_result"
    }
   ],
   "source": [
    "coordinate_search_results[targets[0]['name']]"
   ]
  },
  {
   "cell_type": "code",
   "execution_count": 9,
   "id": "3d979809",
   "metadata": {},
   "outputs": [
    {
     "data": {
      "text/html": [
       "<div><i>Table length=4</i>\n",
       "<table id=\"table140220891417856\" class=\"table-striped table-bordered table-condensed\">\n",
       "<thead><tr><th>main_id</th><th>ra</th><th>dec</th><th>bibcode</th><th>d</th><th>meanError</th><th>meanError_prec</th><th>nature</th><th>nbmes</th><th>obsdate</th><th>obsdate_prec</th><th>origin</th><th>qual</th><th>quality</th><th>remark</th><th>remarks</th><th>resolution</th><th>velType</th><th>velValue</th><th>velValue_prec</th><th>wdomain</th><th>oidref</th><th>mespos</th></tr></thead>\n",
       "<thead><tr><th></th><th>deg</th><th>deg</th><th></th><th></th><th></th><th></th><th></th><th></th><th></th><th></th><th></th><th></th><th></th><th></th><th></th><th></th><th></th><th></th><th></th><th></th><th></th><th></th></tr></thead>\n",
       "<thead><tr><th>object</th><th>float64</th><th>float64</th><th>object</th><th>str1</th><th>float32</th><th>int16</th><th>object</th><th>int16</th><th>float64</th><th>int16</th><th>object</th><th>str1</th><th>str1</th><th>str1</th><th>object</th><th>int32</th><th>object</th><th>float64</th><th>int16</th><th>object</th><th>int64</th><th>int16</th></tr></thead>\n",
       "<tr><td>[ARM2018] SHARDS20012347</td><td>189.28783333333334</td><td>62.16986111111111</td><td>2014ApJS..214...24S</td><td></td><td>--</td><td>--</td><td>p</td><td>--</td><td>--</td><td>--</td><td></td><td></td><td></td><td></td><td></td><td>--</td><td>z</td><td>0.6331</td><td>4</td><td></td><td>11731849</td><td>3</td></tr>\n",
       "<tr><td>[ARM2018] SHARDS20012347</td><td>189.28783333333334</td><td>62.16986111111111</td><td>2015ApJ...803...34B</td><td></td><td>--</td><td>--</td><td>p</td><td>--</td><td>--</td><td>--</td><td></td><td></td><td></td><td></td><td></td><td>--</td><td>z</td><td>4.48</td><td>2</td><td>NIR</td><td>11731849</td><td>4</td></tr>\n",
       "<tr><td>[ARM2018] SHARDS20012347</td><td>189.28783333333334</td><td>62.16986111111111</td><td>2018ApJS..237...12O</td><td></td><td>--</td><td>32767</td><td>p</td><td>--</td><td>--</td><td>32767</td><td></td><td></td><td></td><td></td><td></td><td>--</td><td>z</td><td>0.622</td><td>3</td><td></td><td>11731849</td><td>1</td></tr>\n",
       "<tr><td>[ARM2018] SHARDS20012347</td><td>189.28783333333334</td><td>62.16986111111111</td><td>2018MNRAS.478.3740A</td><td></td><td>0.07</td><td>2</td><td>p</td><td>--</td><td>--</td><td>32767</td><td></td><td></td><td>E</td><td></td><td></td><td>--</td><td>z</td><td>4.65</td><td>2</td><td></td><td>11731849</td><td>2</td></tr>\n",
       "</table></div>"
      ],
      "text/plain": [
       "<Table length=4>\n",
       "        main_id                  ra         ...  oidref  mespos\n",
       "                                deg         ...                \n",
       "         object               float64       ...  int64   int16 \n",
       "------------------------ ------------------ ... -------- ------\n",
       "[ARM2018] SHARDS20012347 189.28783333333334 ... 11731849      3\n",
       "[ARM2018] SHARDS20012347 189.28783333333334 ... 11731849      4\n",
       "[ARM2018] SHARDS20012347 189.28783333333334 ... 11731849      1\n",
       "[ARM2018] SHARDS20012347 189.28783333333334 ... 11731849      2"
      ]
     },
     "execution_count": 9,
     "metadata": {},
     "output_type": "execute_result"
    }
   ],
   "source": [
    "coordinate_search_results[targets[1]['name']]"
   ]
  },
  {
   "cell_type": "code",
   "execution_count": null,
   "id": "4fb14cb0",
   "metadata": {},
   "outputs": [],
   "source": []
  }
 ],
 "metadata": {
  "kernelspec": {
   "display_name": "Python 3 (ipykernel)",
   "language": "python",
   "name": "python3"
  },
  "language_info": {
   "codemirror_mode": {
    "name": "ipython",
    "version": 3
   },
   "file_extension": ".py",
   "mimetype": "text/x-python",
   "name": "python",
   "nbconvert_exporter": "python",
   "pygments_lexer": "ipython3",
   "version": "3.9.12"
  }
 },
 "nbformat": 4,
 "nbformat_minor": 5
}
